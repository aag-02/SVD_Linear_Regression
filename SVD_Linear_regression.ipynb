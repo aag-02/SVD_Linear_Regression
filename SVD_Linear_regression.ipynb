{
 "cells": [
  {
   "cell_type": "code",
   "execution_count": 64,
   "id": "2563a4b6-cac5-41f3-9433-d20a11b933b3",
   "metadata": {},
   "outputs": [],
   "source": [
    "import numpy as np\n",
    "import pandas as pd\n",
    "from sklearn.linear_model import LinearRegression\n"
   ]
  },
  {
   "cell_type": "markdown",
   "id": "a34dbcd5-3359-4ea0-931f-84be4ece4f78",
   "metadata": {},
   "source": [
    "# First computing coefficients using Scikit-Learn's Linear Regression module"
   ]
  },
  {
   "cell_type": "code",
   "execution_count": 65,
   "id": "00e085dc-4aa1-496a-86fd-89e7264ca289",
   "metadata": {},
   "outputs": [],
   "source": [
    "A = np.array([\n",
    "    [1,1],\n",
    "    [2,4],\n",
    "    [4,4],\n",
    "    [6,5]\n",
    "])"
   ]
  },
  {
   "cell_type": "code",
   "execution_count": 66,
   "id": "4673994f-ab21-461f-848c-d7c984fe49e7",
   "metadata": {},
   "outputs": [],
   "source": [
    "b = np.array([6,8,9,11])"
   ]
  },
  {
   "cell_type": "code",
   "execution_count": 67,
   "id": "49601351-4ddf-4999-8262-cc85f9babb89",
   "metadata": {},
   "outputs": [
    {
     "name": "stdout",
     "output_type": "stream",
     "text": [
      "\n",
      "Coefficients from Linear Regression:\n",
      "[0.3451957295 1.896797153 ]\n"
     ]
    }
   ],
   "source": [
    "model = LinearRegression(fit_intercept=False)\n",
    "model.fit(A, b)\n",
    "beta_lr = model.coef_\n",
    "\n",
    "print(\"\\nCoefficients from Linear Regression:\")\n",
    "print(beta_lr)"
   ]
  },
  {
   "cell_type": "markdown",
   "id": "a74bf687-37dd-4413-822c-1b269a597cfb",
   "metadata": {},
   "source": [
    "# computing coefficients using Normal Equations"
   ]
  },
  {
   "cell_type": "markdown",
   "id": "34ffe2d6-ea69-471e-9507-45caeb3eaa15",
   "metadata": {},
   "source": [
    "### The equation for linear regression is Ax = b. However, most of the time, the number of observations are greater than the number of predictors, resulting in a non-square matrix, meaning that A is not invertible. Therefore we will not be able to do x = A^-1b.\n",
    "\n",
    "### Instead we need to find the values of x such that the predicted values Ax are as close to y as possible. So, we use x = (A^TA)^-1A^Ty, which is a derived formula from minimizing the residual sum of squares"
   ]
  },
  {
   "cell_type": "code",
   "execution_count": 68,
   "id": "9fcec1d7-b6aa-4f3e-89b4-68fe6f06b3ea",
   "metadata": {},
   "outputs": [
    {
     "data": {
      "text/plain": [
       "array([[1, 1],\n",
       "       [2, 4],\n",
       "       [4, 4],\n",
       "       [6, 5]])"
      ]
     },
     "execution_count": 68,
     "metadata": {},
     "output_type": "execute_result"
    }
   ],
   "source": [
    "A = np.array([\n",
    "    [1,1],\n",
    "    [2,4],\n",
    "    [4,4],\n",
    "    [6,5]\n",
    "])\n",
    "\n",
    "A"
   ]
  },
  {
   "cell_type": "code",
   "execution_count": 69,
   "id": "1ac6b727-1ed7-43e7-bd09-1b04eaab85ed",
   "metadata": {},
   "outputs": [
    {
     "data": {
      "text/plain": [
       "array([0.3451957295, 1.896797153 ])"
      ]
     },
     "execution_count": 69,
     "metadata": {},
     "output_type": "execute_result"
    }
   ],
   "source": [
    "np.linalg.inv(A.T @ A) @ (A.T @ b)"
   ]
  },
  {
   "cell_type": "markdown",
   "id": "c1d1ed1a-7fd3-4141-81be-dcce0cdd0e93",
   "metadata": {},
   "source": [
    "# SVD"
   ]
  },
  {
   "cell_type": "code",
   "execution_count": 70,
   "id": "9cc32d64-80ba-4757-8d0d-b1b511b3c217",
   "metadata": {},
   "outputs": [],
   "source": [
    "AT = A.T \n",
    "\n",
    "#this is the transpose of A"
   ]
  },
  {
   "cell_type": "code",
   "execution_count": 71,
   "id": "98dbb86e-911d-4fbe-bcba-0813c623f35b",
   "metadata": {},
   "outputs": [
    {
     "data": {
      "text/plain": [
       "array([[57, 55],\n",
       "       [55, 58]])"
      ]
     },
     "execution_count": 71,
     "metadata": {},
     "output_type": "execute_result"
    }
   ],
   "source": [
    "ATA = AT @ A \n",
    "#this computes A^T * A\n",
    "ATA"
   ]
  },
  {
   "cell_type": "markdown",
   "id": "a054efe9-dda3-4ff2-8fee-259f7d276fcc",
   "metadata": {},
   "source": [
    "# Find Eigenvalues for Sigma Matrix"
   ]
  },
  {
   "cell_type": "code",
   "execution_count": 72,
   "id": "e896d13a-4d0c-4425-9a21-cabdf9c1957d",
   "metadata": {},
   "outputs": [
    {
     "data": {
      "text/plain": [
       "array([   1., -115.,  281.])"
      ]
     },
     "execution_count": 72,
     "metadata": {},
     "output_type": "execute_result"
    }
   ],
   "source": [
    "np.poly(ATA) # this will return the coefficients of the characteristic polynomial of the matrix A^TA"
   ]
  },
  {
   "cell_type": "markdown",
   "id": "feb6aa26-3850-4035-916e-ae2ed04e572e",
   "metadata": {},
   "source": [
    "det($A^TA$ - lambda*I) = lambda^2 - 115lambda + 281"
   ]
  },
  {
   "cell_type": "code",
   "execution_count": 73,
   "id": "295cea91-70e4-418e-a630-72c8d66487cb",
   "metadata": {},
   "outputs": [],
   "source": [
    "lambda1 = (115 + np.sqrt(((-115)**2)-4*281)) / 2\n",
    "\n",
    "# here, I use the quadratic formula to solve for lambda1"
   ]
  },
  {
   "cell_type": "code",
   "execution_count": 74,
   "id": "914c14c4-ea03-47f5-896e-f46cb8be9ef8",
   "metadata": {},
   "outputs": [],
   "source": [
    "lambda2 = (115 - np.sqrt(((-115)**2)-4*281)) / 2\n",
    "# here, I use the quadratic formula to solve for lambda2"
   ]
  },
  {
   "cell_type": "code",
   "execution_count": 75,
   "id": "ce9903a0-45a8-4ef7-8e27-1a9c28ad79ea",
   "metadata": {},
   "outputs": [
    {
     "data": {
      "text/plain": [
       "(np.float64(112.50227268031749), np.float64(2.497727319682511))"
      ]
     },
     "execution_count": 75,
     "metadata": {},
     "output_type": "execute_result"
    }
   ],
   "source": [
    "lambda1, lambda2"
   ]
  },
  {
   "cell_type": "markdown",
   "id": "851a7b18-20c6-43d4-960b-8b58b7bbf6da",
   "metadata": {},
   "source": [
    "Therefore, eigenvalues are 2.497727319682511 and 112.50227268031749"
   ]
  },
  {
   "cell_type": "code",
   "execution_count": 76,
   "id": "b9d586d8-d62f-4621-b4b6-8834fb159199",
   "metadata": {},
   "outputs": [
    {
     "data": {
      "text/plain": [
       "(np.float64(10.60670885243474), np.float64(1.5804199820561973))"
      ]
     },
     "execution_count": 76,
     "metadata": {},
     "output_type": "execute_result"
    }
   ],
   "source": [
    "\n",
    "#after finding the eigenvalues, we need to take the square root to find the singular values\n",
    "\n",
    "singular_value1 = np.sqrt(lambda1)\n",
    "singular_value2 = np.sqrt(lambda2)\n",
    "sing_vals = singular_value1, singular_value2\n",
    "sing_vals"
   ]
  },
  {
   "cell_type": "code",
   "execution_count": 77,
   "id": "2b9eafb1-217c-4578-8698-8a0ea49d5e86",
   "metadata": {},
   "outputs": [
    {
     "data": {
      "text/plain": [
       "array([[10.6067088524,  0.          ],\n",
       "       [ 0.          ,  1.5804199821],\n",
       "       [ 0.          ,  0.          ],\n",
       "       [ 0.          ,  0.          ]])"
      ]
     },
     "execution_count": 77,
     "metadata": {},
     "output_type": "execute_result"
    }
   ],
   "source": [
    "sigma_matrix = np.zeros(A.shape)\n",
    "np.fill_diagonal(sigma_matrix, sing_vals)\n",
    "sigma_matrix"
   ]
  },
  {
   "cell_type": "markdown",
   "id": "702e3f59-6810-46b6-b42f-861cbc5e54bf",
   "metadata": {},
   "source": [
    "# Find eigenvectors for V matrix"
   ]
  },
  {
   "cell_type": "code",
   "execution_count": 78,
   "id": "318f807b-e32b-4bb0-8209-9be991c33f66",
   "metadata": {},
   "outputs": [
    {
     "data": {
      "text/plain": [
       "array([[-55.5022726803,  55.          ],\n",
       "       [ 55.          , -54.5022726803]])"
      ]
     },
     "execution_count": 78,
     "metadata": {},
     "output_type": "execute_result"
    }
   ],
   "source": [
    "#now to find the eigenvectors I need to solve ATA - lambda1*I\n",
    "\n",
    "first = ATA - (lambda1 * np.eye(ATA.shape[0]))\n",
    "first"
   ]
  },
  {
   "cell_type": "code",
   "execution_count": 79,
   "id": "a0297724-5e0a-4ecd-853d-b4d1b65022f9",
   "metadata": {},
   "outputs": [
    {
     "data": {
      "text/plain": [
       "np.float64(0.9909504123694091)"
      ]
     },
     "execution_count": 79,
     "metadata": {},
     "output_type": "execute_result"
    }
   ],
   "source": [
    "# first, we will do [-55.50227268 55][x y]^T\n",
    "# this comes out to -55.50227268x + 55y = 0\n",
    "# -55.50227268x = -55y\n",
    "# then solve for x -> x = -0.9909504123694091\n",
    "\n",
    "first[0][1] / -first[0][0]"
   ]
  },
  {
   "cell_type": "code",
   "execution_count": 80,
   "id": "23b73d75-8cd8-4730-8988-02e99de26cb2",
   "metadata": {},
   "outputs": [],
   "source": [
    "v1 = np.array([0.9909504123694091,1])\n",
    "\n",
    "#to confirm if this is right, do -55.50227268(0.9909504123694091) + 55(1) and it will equal 0"
   ]
  },
  {
   "cell_type": "code",
   "execution_count": 81,
   "id": "e8198b96-bb70-4f54-af6c-840100f98acd",
   "metadata": {},
   "outputs": [
    {
     "data": {
      "text/plain": [
       "array([0.7038854547, 0.7103134989])"
      ]
     },
     "execution_count": 81,
     "metadata": {},
     "output_type": "execute_result"
    }
   ],
   "source": [
    "#now we need to normalize the eigenvector\n",
    "\n",
    "v1 = v1 * 1/np.sqrt(np.float64(0.9909504123694091**2) + 1)\n",
    "v1"
   ]
  },
  {
   "cell_type": "code",
   "execution_count": null,
   "id": "01b00cca-5a55-4e7e-9fbc-efa962a3c628",
   "metadata": {},
   "outputs": [],
   "source": []
  },
  {
   "cell_type": "code",
   "execution_count": null,
   "id": "a512c832-b2fe-495b-9e20-a693bd9b8d18",
   "metadata": {},
   "outputs": [],
   "source": []
  },
  {
   "cell_type": "code",
   "execution_count": 82,
   "id": "e20f19a9-b838-40b9-b5f6-762a589e263f",
   "metadata": {},
   "outputs": [
    {
     "data": {
      "text/plain": [
       "array([[54.5022726803, 55.          ],\n",
       "       [55.          , 55.5022726803]])"
      ]
     },
     "execution_count": 82,
     "metadata": {},
     "output_type": "execute_result"
    }
   ],
   "source": [
    "# now we repeat the same process as above\n",
    "second = ATA - (lambda2*np.eye(ATA.shape[0]))\n",
    "second"
   ]
  },
  {
   "cell_type": "code",
   "execution_count": 83,
   "id": "8856978d-391d-44a4-a831-c6f40d80f9e9",
   "metadata": {},
   "outputs": [
    {
     "data": {
      "text/plain": [
       "np.float64(-1.0091322305512271)"
      ]
     },
     "execution_count": 83,
     "metadata": {},
     "output_type": "execute_result"
    }
   ],
   "source": [
    "-second[0][1] / second[0][0]"
   ]
  },
  {
   "cell_type": "code",
   "execution_count": 84,
   "id": "64e5fc76-967d-4742-a86c-9183a0bd77cb",
   "metadata": {},
   "outputs": [],
   "source": [
    "v2 = np.array([-1.0091322305512271,1])"
   ]
  },
  {
   "cell_type": "code",
   "execution_count": 85,
   "id": "e7e7f6b2-f6e5-403f-a011-aab95697687f",
   "metadata": {},
   "outputs": [],
   "source": [
    "v2 = v2 * 1/np.sqrt(np.float64((-1.0091322305)**2) + 1)"
   ]
  },
  {
   "cell_type": "code",
   "execution_count": 86,
   "id": "85026e15-8fdd-4fb2-a5e7-0aa5e5b96376",
   "metadata": {},
   "outputs": [
    {
     "data": {
      "text/plain": [
       "array([-0.7103134989,  0.7038854547])"
      ]
     },
     "execution_count": 86,
     "metadata": {},
     "output_type": "execute_result"
    }
   ],
   "source": [
    "v2"
   ]
  },
  {
   "cell_type": "code",
   "execution_count": 87,
   "id": "5a91a8a5-5019-4012-8257-8ca6a2b02546",
   "metadata": {},
   "outputs": [],
   "source": [
    "V = np.column_stack((v1, v2))\n",
    "VT = V.T"
   ]
  },
  {
   "cell_type": "code",
   "execution_count": 88,
   "id": "ea5dbbbb-17fa-44fe-b1cf-4f7c1908af1b",
   "metadata": {},
   "outputs": [
    {
     "data": {
      "text/plain": [
       "array([[ 0.7038854547, -0.7103134989],\n",
       "       [ 0.7103134989,  0.7038854547]])"
      ]
     },
     "execution_count": 88,
     "metadata": {},
     "output_type": "execute_result"
    }
   ],
   "source": [
    "# the V matrix is:\n",
    "V"
   ]
  },
  {
   "cell_type": "markdown",
   "id": "a0f8b564-008f-4d36-8c13-c2dce9a9416b",
   "metadata": {},
   "source": [
    "# Find Matrix U. For this we need to find orthonormal vectors"
   ]
  },
  {
   "cell_type": "code",
   "execution_count": 89,
   "id": "8d9ad2b6-148a-46b7-9055-4d66341db78b",
   "metadata": {},
   "outputs": [
    {
     "data": {
      "text/plain": [
       "array([0.1333306093, 0.4005978635, 0.533322437 , 0.7330153331])"
      ]
     },
     "execution_count": 89,
     "metadata": {},
     "output_type": "execute_result"
    }
   ],
   "source": [
    "# u1 = 1/sigma1 * Av1\n",
    "\n",
    "u1= (1/singular_value1) * (A@v1)\n",
    "u1"
   ]
  },
  {
   "cell_type": "code",
   "execution_count": 90,
   "id": "fd50438f-7434-415b-9ddf-0dc9eecc7280",
   "metadata": {},
   "outputs": [],
   "source": [
    "# u2 = 1/sigma2 * Av2\n",
    "\n",
    "u2 = (1/singular_value2) * (A@v2)"
   ]
  },
  {
   "cell_type": "code",
   "execution_count": 91,
   "id": "0699e5ab-3790-4ea1-a9d2-f177ad549b96",
   "metadata": {},
   "outputs": [
    {
     "data": {
      "text/plain": [
       "array([-0.0040673013,  0.8826228703, -0.0162692052, -0.4697825443])"
      ]
     },
     "execution_count": 91,
     "metadata": {},
     "output_type": "execute_result"
    }
   ],
   "source": [
    "u2"
   ]
  },
  {
   "cell_type": "markdown",
   "id": "547cbdf8-3a8e-4bc3-8891-e8b66ed88b44",
   "metadata": {},
   "source": [
    "### To find u3 and u4 we must use the Gram-Schmidt process to ensure orthogonality"
   ]
  },
  {
   "cell_type": "code",
   "execution_count": 92,
   "id": "d9338bce-0703-4dcd-917b-36eb16759f9e",
   "metadata": {},
   "outputs": [
    {
     "data": {
      "text/plain": [
       "array([-0.2846975089, -0.7971530249, -0.1387900356, -1.5943060498])"
      ]
     },
     "execution_count": 92,
     "metadata": {},
     "output_type": "execute_result"
    }
   ],
   "source": [
    "e3 = np.array([0, 0, 1, 0]) # standard basis vector\n",
    "\n",
    "u3 = e3 - (((u1@e3/u1@u1)*u1) + ((u2@e3/u2@u2)*u2))\n",
    "u3 "
   ]
  },
  {
   "cell_type": "code",
   "execution_count": 93,
   "id": "9bed58f9-95af-4581-a1fd-e9eecb836ddf",
   "metadata": {},
   "outputs": [
    {
     "data": {
      "text/plain": [
       "array([ -2.2141563557,  -4.5996377958,  -2.4794012234, -12.1992755918])"
      ]
     },
     "execution_count": 93,
     "metadata": {},
     "output_type": "execute_result"
    }
   ],
   "source": [
    "e4 = np.array([0, 0, 0, 1])\n",
    "\n",
    "u4 = e4 - (((u1@e4/u1@u1)*u1) + ((u2@e4/u2@u2)*u2) + ((u3@e4/u3@u3)*u3))\n",
    "u4 "
   ]
  },
  {
   "cell_type": "code",
   "execution_count": 94,
   "id": "dc7e1fb4-24e2-49a9-8840-387d276f9164",
   "metadata": {},
   "outputs": [
    {
     "data": {
      "text/plain": [
       "array([[  0.1333306093,  -0.0040673013,  -0.2846975089,  -2.2141563557],\n",
       "       [  0.4005978635,   0.8826228703,  -0.7971530249,  -4.5996377958],\n",
       "       [  0.533322437 ,  -0.0162692052,  -0.1387900356,  -2.4794012234],\n",
       "       [  0.7330153331,  -0.4697825443,  -1.5943060498, -12.1992755918]])"
      ]
     },
     "execution_count": 94,
     "metadata": {},
     "output_type": "execute_result"
    }
   ],
   "source": [
    "np.set_printoptions(suppress=True, precision=10)\n",
    "U = np.column_stack((u1, u2,u3,u4))\n",
    "U"
   ]
  },
  {
   "cell_type": "code",
   "execution_count": 97,
   "id": "00bc31e8-4499-4f90-8b7a-dc369357dc6c",
   "metadata": {},
   "outputs": [
    {
     "name": "stdout",
     "output_type": "stream",
     "text": [
      "\n",
      "Reconstructed Matrix:\n",
      "[[1.           1.          ]\n",
      " [1.9999999999 4.0000000001]\n",
      " [4.           4.          ]\n",
      " [6.           5.          ]]\n"
     ]
    }
   ],
   "source": [
    "A_reconstructed = U @ sigma_matrix @ VT\n",
    "print(\"\\nReconstructed Matrix:\")\n",
    "print(A_reconstructed)\n",
    "\n",
    "#this closely matches the original matrix meaning we did it correctly"
   ]
  },
  {
   "cell_type": "code",
   "execution_count": 102,
   "id": "ebc137ef-8dd6-472d-ad74-1a86aaac0ea1",
   "metadata": {},
   "outputs": [],
   "source": [
    "#now to find the coefficients we need to use the formula:\n",
    "# V * sigma_inv * U^T\n",
    "\n",
    "sigma_inv = np.zeros((sigma_matrix.shape[1], sigma_matrix.shape[0]))\n",
    "\n",
    "# Compute the pseudo-inverse for non-zero entries\n",
    "non_zero_mask = sigma_matrix > 1e-10  # Threshold to consider values as non-zero\n",
    "sigma_inv[non_zero_mask.T] = 1 / sigma_matrix[non_zero_mask]  # Apply reciprocal and transpose mask\n"
   ]
  },
  {
   "cell_type": "code",
   "execution_count": 103,
   "id": "a330ab96-da5e-4a5a-8af1-f0b16ad30a64",
   "metadata": {},
   "outputs": [
    {
     "data": {
      "text/plain": [
       "array([[0.0942799519, 0.          , 0.          , 0.          ],\n",
       "       [0.          , 0.632743202 , 0.          , 0.          ]])"
      ]
     },
     "execution_count": 103,
     "metadata": {},
     "output_type": "execute_result"
    }
   ],
   "source": [
    "sigma_inv"
   ]
  },
  {
   "cell_type": "code",
   "execution_count": 104,
   "id": "cf812fe6-ecae-4102-a195-ac24440603d4",
   "metadata": {},
   "outputs": [
    {
     "data": {
      "text/plain": [
       "array([0.3451957295, 1.8967971531])"
      ]
     },
     "execution_count": 104,
     "metadata": {},
     "output_type": "execute_result"
    }
   ],
   "source": [
    "V@sigma_inv@U.T@b"
   ]
  },
  {
   "cell_type": "code",
   "execution_count": 110,
   "id": "c0fb5d74-c4cf-44e5-a654-195ebb07c05f",
   "metadata": {},
   "outputs": [
    {
     "data": {
      "text/plain": [
       "array([0.3451957295, 1.8967971531])"
      ]
     },
     "execution_count": 110,
     "metadata": {},
     "output_type": "execute_result"
    }
   ],
   "source": [
    "np.array([0.3451957295, 1.8967971531])\n"
   ]
  },
  {
   "cell_type": "markdown",
   "id": "96f122f7-810e-40c4-8ab3-0c91d496769c",
   "metadata": {},
   "source": [
    "# Let's confirm if we get the same coefficients using Scikit Learn's Linear Regression package"
   ]
  },
  {
   "cell_type": "code",
   "execution_count": 108,
   "id": "7c16d46e-3a47-4323-9245-8be5d1011270",
   "metadata": {},
   "outputs": [],
   "source": [
    "from sklearn.linear_model import LinearRegression\n"
   ]
  },
  {
   "cell_type": "code",
   "execution_count": 109,
   "id": "1611b739-fa92-4674-acf2-24b0f9a3029e",
   "metadata": {},
   "outputs": [
    {
     "name": "stdout",
     "output_type": "stream",
     "text": [
      "\n",
      "Coefficients from Linear Regression:\n",
      "[0.3451957295 1.896797153 ]\n"
     ]
    }
   ],
   "source": [
    "model = LinearRegression(fit_intercept=False)\n",
    "model.fit(A, b)\n",
    "beta_lr = model.coef_\n",
    "\n",
    "print(\"\\nCoefficients from Linear Regression:\")\n",
    "print(beta_lr)"
   ]
  },
  {
   "cell_type": "markdown",
   "id": "cfcd245d-a51e-4967-91c8-2588cea8ef79",
   "metadata": {},
   "source": [
    "# As you can see, the coefficients are the same as above!"
   ]
  }
 ],
 "metadata": {
  "kernelspec": {
   "display_name": "Python 3 (ipykernel)",
   "language": "python",
   "name": "python3"
  },
  "language_info": {
   "codemirror_mode": {
    "name": "ipython",
    "version": 3
   },
   "file_extension": ".py",
   "mimetype": "text/x-python",
   "name": "python",
   "nbconvert_exporter": "python",
   "pygments_lexer": "ipython3",
   "version": "3.9.6"
  }
 },
 "nbformat": 4,
 "nbformat_minor": 5
}
